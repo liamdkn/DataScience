{
 "cells": [
  {
   "cell_type": "markdown",
   "metadata": {},
   "source": [
    "### Change Log\n",
    "\n",
    "#### [1. Understanding the Algorithm](#algorithm-understanding)\n",
    "- **Objective:**\n",
    "- **Changes:**\n",
    "\n",
    "### Title\n",
    "\n",
    "#### [2. Data Understanding](#data-understanding)\n",
    "- **Dataset Description:**\n",
    "\n",
    "    \n",
    "  **Changes:**\n",
    "\n",
    "\n",
    "\n",
    "#### [3. Data Preperation](#3-data-preparation)\n",
    "- **Data Cleaning:**\n",
    "\n",
    "  **Changes:**\n",
    "\n",
    "\n",
    "#### [4. Modeling](#modeling)\n",
    "- **Implementation Details:**\n",
    "\n",
    "\n",
    "\n",
    "#### [5. Evaluation](#evaluation)\n",
    "- **Challenges Encountered:**\n",
    "\n",
    "\n",
    "\n",
    "#### [6. Deployment](#deployment)\n",
    "\n"
   ]
  },
  {
   "cell_type": "code",
   "execution_count": 6,
   "metadata": {},
   "outputs": [],
   "source": [
    "# Imports\n"
   ]
  },
  {
   "cell_type": "markdown",
   "metadata": {},
   "source": [
    "#### 1. Understanding the Algorithm <a id='algorithm-understanding'></a>"
   ]
  },
  {
   "cell_type": "markdown",
   "metadata": {},
   "source": [
    "### Example: \n",
    "\n",
    "To demonstrate support vector machines in action, I will do similar "
   ]
  },
  {
   "cell_type": "markdown",
   "metadata": {},
   "source": [
    "#### 2. Data Understanding <a id='data-understanding'></a>\n",
    "\n",
    "The data set is taken from \n",
    "\n",
    "CSV Files:\n",
    " - \n",
    " - \n",
    " \n",
    "Directories:\n",
    "- \n",
    "- "
   ]
  },
  {
   "cell_type": "markdown",
   "metadata": {},
   "source": [
    "#### 3. Data Preparation <a id='data-preparation'></a>"
   ]
  },
  {
   "cell_type": "markdown",
   "metadata": {},
   "source": [
    "#### 4. Modeling <a id='modeling'></a>"
   ]
  },
  {
   "cell_type": "markdown",
   "metadata": {},
   "source": [
    "#### 5. Evaluation <a id='evaluation'></a>"
   ]
  },
  {
   "cell_type": "markdown",
   "metadata": {},
   "source": [
    "#### 6. Deployment <a id='deployment'></a>"
   ]
  }
 ],
 "metadata": {
  "kernelspec": {
   "display_name": "Python 3",
   "language": "python",
   "name": "python3"
  },
  "language_info": {
   "codemirror_mode": {
    "name": "ipython",
    "version": 3
   },
   "file_extension": ".py",
   "mimetype": "text/x-python",
   "name": "python",
   "nbconvert_exporter": "python",
   "pygments_lexer": "ipython3",
   "version": "3.10.13"
  }
 },
 "nbformat": 4,
 "nbformat_minor": 2
}
