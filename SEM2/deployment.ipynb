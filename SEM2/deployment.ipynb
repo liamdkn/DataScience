{
 "cells": [
  {
   "cell_type": "code",
   "execution_count": 23,
   "metadata": {},
   "outputs": [],
   "source": [
    "import anvil.server\n",
    "import pickle\n",
    "import anvil.media\n",
    "from skimage import transform, io\n",
    "\n",
    "anvil.server.connect(\"server_SNYECGUEGNM4DXM7GNLRNKBV-QLCF4MLMMCID4KO7\")"
   ]
  },
  {
   "cell_type": "code",
   "execution_count": 24,
   "metadata": {},
   "outputs": [],
   "source": [
    "# load model from pickle file\n",
    "\n",
    "model_pkl_file = \"/Users/liamdurkan/Repositories/DataScience/SEM2/1 - Naive-Bayes/news_artical_model.pkl\" \n",
    "with open(model_pkl_file, 'rb') as file:  \n",
    "    model = pickle.load(file)\n",
    "\n",
    "def predict_category(input, model=model):\n",
    "    pred = model.predict([input])\n",
    "    return pred[0]\n",
    "\n",
    "@anvil.server.callable\n",
    "def prediction_input(text):\n",
    "    result = predict_category(text)\n",
    "    return result"
   ]
  },
  {
   "cell_type": "code",
   "execution_count": 26,
   "metadata": {},
   "outputs": [
    {
     "name": "stderr",
     "output_type": "stream",
     "text": [
      "Exception in thread Thread-19 (heartbeat_until_reopened):\n",
      "Traceback (most recent call last):\n",
      "  File \"/usr/local/lib/python3.10/site-packages/anvil/server.py\", line 408, in call\n",
      "    return _do_call(args, kwargs, fn_name=fn_name)\n",
      "  File \"/usr/local/lib/python3.10/site-packages/anvil/server.py\", line 398, in _do_call\n",
      "    return _threaded_server.do_call(args, kwargs, fn_name=fn_name, live_object=live_object)\n",
      "  File \"/usr/local/lib/python3.10/site-packages/anvil/_threaded_server.py\", line 435, in do_call\n",
      "    raise error_from_server\n",
      "anvil._server.AnvilWrappedError: 'Connection to Anvil Uplink server lost'\n",
      "\n",
      "During handling of the above exception, another exception occurred:\n",
      "\n",
      "Traceback (most recent call last):\n",
      "  File \"/usr/local/Cellar/python@3.10/3.10.13_2/Frameworks/Python.framework/Versions/3.10/lib/python3.10/threading.py\", line 1016, in _bootstrap_inner\n",
      "    self.run()\n",
      "  File \"/usr/local/Cellar/python@3.10/3.10.13_2/Frameworks/Python.framework/Versions/3.10/lib/python3.10/threading.py\", line 953, in run\n",
      "    self._target(*self._args, **self._kwargs)\n",
      "  File \"/usr/local/lib/python3.10/site-packages/anvil/server.py\", line 207, in heartbeat_until_reopened\n",
      "    call(\"anvil.private.echo\", \"keep-alive\")\n",
      "  File \"/usr/local/lib/python3.10/site-packages/anvil/server.py\", line 411, in call\n",
      "    raise _server._deserialise_exception(e.error_obj)\n",
      "anvil._server.AnvilWrappedError: 'Connection to Anvil Uplink server lost'\n"
     ]
    },
    {
     "name": "stdout",
     "output_type": "stream",
     "text": [
      "Anvil websocket closed (code 1006, reason=Going away)\n",
      "Reconnecting Anvil Uplink...\n",
      "Connecting to wss://anvil.works/uplink\n",
      "Anvil websocket open\n",
      "Connected to \"Default Environment\" as SERVER\n"
     ]
    },
    {
     "name": "stderr",
     "output_type": "stream",
     "text": [
      "Exception in thread Thread-25 (heartbeat_until_reopened):\n",
      "Traceback (most recent call last):\n",
      "  File \"/usr/local/lib/python3.10/site-packages/anvil/server.py\", line 408, in call\n",
      "    return _do_call(args, kwargs, fn_name=fn_name)\n",
      "  File \"/usr/local/lib/python3.10/site-packages/anvil/server.py\", line 398, in _do_call\n",
      "    return _threaded_server.do_call(args, kwargs, fn_name=fn_name, live_object=live_object)\n",
      "  File \"/usr/local/lib/python3.10/site-packages/anvil/_threaded_server.py\", line 435, in do_call\n",
      "    raise error_from_server\n",
      "anvil._server.AnvilWrappedError: 'Connection to Anvil Uplink server lost'\n",
      "\n",
      "During handling of the above exception, another exception occurred:\n",
      "\n",
      "Traceback (most recent call last):\n",
      "  File \"/usr/local/Cellar/python@3.10/3.10.13_2/Frameworks/Python.framework/Versions/3.10/lib/python3.10/threading.py\", line 1016, in _bootstrap_inner\n",
      "    self.run()\n",
      "  File \"/usr/local/Cellar/python@3.10/3.10.13_2/Frameworks/Python.framework/Versions/3.10/lib/python3.10/threading.py\", line 953, in run\n",
      "    self._target(*self._args, **self._kwargs)\n",
      "  File \"/usr/local/lib/python3.10/site-packages/anvil/server.py\", line 207, in heartbeat_until_reopened\n",
      "    call(\"anvil.private.echo\", \"keep-alive\")\n",
      "  File \"/usr/local/lib/python3.10/site-packages/anvil/server.py\", line 411, in call\n",
      "    raise _server._deserialise_exception(e.error_obj)\n",
      "anvil._server.AnvilWrappedError: 'Connection to Anvil Uplink server lost'\n"
     ]
    },
    {
     "name": "stdout",
     "output_type": "stream",
     "text": [
      "Anvil websocket closed (code 1006, reason=Going away)\n",
      "Reconnecting Anvil Uplink...\n",
      "Connecting to wss://anvil.works/uplink\n",
      "Anvil websocket open\n",
      "Connected to \"Default Environment\" as SERVER\n"
     ]
    },
    {
     "name": "stderr",
     "output_type": "stream",
     "text": [
      "Exception in thread Thread-28 (heartbeat_until_reopened):\n",
      "Traceback (most recent call last):\n",
      "  File \"/usr/local/lib/python3.10/site-packages/anvil/server.py\", line 408, in call\n",
      "    return _do_call(args, kwargs, fn_name=fn_name)\n",
      "  File \"/usr/local/lib/python3.10/site-packages/anvil/server.py\", line 398, in _do_call\n",
      "    return _threaded_server.do_call(args, kwargs, fn_name=fn_name, live_object=live_object)\n",
      "  File \"/usr/local/lib/python3.10/site-packages/anvil/_threaded_server.py\", line 435, in do_call\n",
      "    raise error_from_server\n",
      "anvil._server.AnvilWrappedError: 'Connection to Anvil Uplink server lost'\n",
      "\n",
      "During handling of the above exception, another exception occurred:\n",
      "\n",
      "Traceback (most recent call last):\n",
      "  File \"/usr/local/Cellar/python@3.10/3.10.13_2/Frameworks/Python.framework/Versions/3.10/lib/python3.10/threading.py\", line 1016, in _bootstrap_inner\n",
      "    self.run()\n",
      "  File \"/usr/local/Cellar/python@3.10/3.10.13_2/Frameworks/Python.framework/Versions/3.10/lib/python3.10/threading.py\", line 953, in run\n",
      "    self._target(*self._args, **self._kwargs)\n",
      "  File \"/usr/local/lib/python3.10/site-packages/anvil/server.py\", line 207, in heartbeat_until_reopened\n",
      "    call(\"anvil.private.echo\", \"keep-alive\")\n",
      "  File \"/usr/local/lib/python3.10/site-packages/anvil/server.py\", line 411, in call\n",
      "    raise _server._deserialise_exception(e.error_obj)\n",
      "anvil._server.AnvilWrappedError: 'Connection to Anvil Uplink server lost'\n"
     ]
    },
    {
     "name": "stdout",
     "output_type": "stream",
     "text": [
      "Anvil websocket closed (code 1006, reason=Going away)\n",
      "Reconnecting Anvil Uplink...\n",
      "Connecting to wss://anvil.works/uplink\n",
      "Anvil websocket open\n",
      "Connected to \"Default Environment\" as SERVER\n"
     ]
    },
    {
     "name": "stderr",
     "output_type": "stream",
     "text": [
      "Exception in thread Thread-31 (heartbeat_until_reopened):\n",
      "Traceback (most recent call last):\n",
      "  File \"/usr/local/lib/python3.10/site-packages/anvil/server.py\", line 408, in call\n",
      "    return _do_call(args, kwargs, fn_name=fn_name)\n",
      "  File \"/usr/local/lib/python3.10/site-packages/anvil/server.py\", line 398, in _do_call\n",
      "    return _threaded_server.do_call(args, kwargs, fn_name=fn_name, live_object=live_object)\n",
      "  File \"/usr/local/lib/python3.10/site-packages/anvil/_threaded_server.py\", line 435, in do_call\n",
      "    raise error_from_server\n",
      "anvil._server.AnvilWrappedError: 'Connection to Anvil Uplink server lost'\n",
      "\n",
      "During handling of the above exception, another exception occurred:\n",
      "\n",
      "Traceback (most recent call last):\n",
      "  File \"/usr/local/Cellar/python@3.10/3.10.13_2/Frameworks/Python.framework/Versions/3.10/lib/python3.10/threading.py\", line 1016, in _bootstrap_inner\n",
      "    self.run()\n",
      "  File \"/usr/local/Cellar/python@3.10/3.10.13_2/Frameworks/Python.framework/Versions/3.10/lib/python3.10/threading.py\", line 953, in run\n",
      "    self._target(*self._args, **self._kwargs)\n",
      "  File \"/usr/local/lib/python3.10/site-packages/anvil/server.py\", line 207, in heartbeat_until_reopened\n",
      "    call(\"anvil.private.echo\", \"keep-alive\")\n",
      "  File \"/usr/local/lib/python3.10/site-packages/anvil/server.py\", line 411, in call\n",
      "    raise _server._deserialise_exception(e.error_obj)\n",
      "anvil._server.AnvilWrappedError: 'Connection to Anvil Uplink server lost'\n"
     ]
    },
    {
     "name": "stdout",
     "output_type": "stream",
     "text": [
      "Anvil websocket closed (code 1006, reason=Going away)\n",
      "Reconnecting Anvil Uplink...\n",
      "Connecting to wss://anvil.works/uplink\n",
      "Anvil websocket open\n",
      "Connected to \"Default Environment\" as SERVER\n"
     ]
    }
   ],
   "source": [
    "from skimage import io, transform\n",
    "import anvil.server\n",
    "import pickle\n",
    "from PIL import Image\n",
    "import numpy as np\n",
    "\n",
    "model_pkl_file = \"/Users/liamdurkan/Repositories/DataScience/SEM2/2 - Support Vector Machines/rbf_SVM_model.pkl\"\n",
    "\n",
    "with open(model_pkl_file, 'rb') as file:\n",
    "    model = pickle.load(file)\n",
    "\n",
    "@anvil.server.callable\n",
    "def predict_linear_svm(file):\n",
    "    with anvil.media.TempFile(file) as filename:\n",
    "        img = Image.open(filename)\n",
    "\n",
    "    img = img.resize((100, 100), resample=Image.BICUBIC)\n",
    "    arr = np.array(img)\n",
    "\n",
    "    # Flatten the array if necessary\n",
    "    arr = arr.flatten()\n",
    "\n",
    "    # Reshape the array to match the format used during training\n",
    "    arr = arr.reshape(1, -1)\n",
    "\n",
    "    predicted_label = model.predict(arr)[0]\n",
    "    decision_values = model.decision_function(arr)\n",
    "    print(\"Decision Values:\", decision_values)\n",
    "    predicted_class_index = np.argmax(decision_values)\n",
    "    predicted_label = model.classes_[predicted_class_index]\n",
    "    print(predicted_label)\n",
    "\n",
    "\n",
    "\n",
    "    return predicted_label, decision_values\n"
   ]
  }
 ],
 "metadata": {
  "kernelspec": {
   "display_name": "Python 3",
   "language": "python",
   "name": "python3"
  },
  "language_info": {
   "codemirror_mode": {
    "name": "ipython",
    "version": 3
   },
   "file_extension": ".py",
   "mimetype": "text/x-python",
   "name": "python",
   "nbconvert_exporter": "python",
   "pygments_lexer": "ipython3",
   "version": "3.10.13"
  }
 },
 "nbformat": 4,
 "nbformat_minor": 2
}
