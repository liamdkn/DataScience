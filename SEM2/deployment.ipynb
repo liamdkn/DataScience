{
 "cells": [
  {
   "cell_type": "code",
   "execution_count": 1,
   "metadata": {},
   "outputs": [
    {
     "name": "stdout",
     "output_type": "stream",
     "text": [
      "Connecting to wss://anvil.works/uplink\n",
      "Anvil websocket open\n",
      "Connected to \"Default Environment\" as SERVER\n"
     ]
    }
   ],
   "source": [
    "import anvil.server\n",
    "import pickle\n",
    "import anvil.media\n",
    "from skimage import transform, io\n",
    "\n",
    "anvil.server.connect(\"server_SNYECGUEGNM4DXM7GNLRNKBV-QLCF4MLMMCID4KO7\")"
   ]
  },
  {
   "cell_type": "code",
   "execution_count": 2,
   "metadata": {},
   "outputs": [],
   "source": [
    "# load model from pickle file\n",
    "\n",
    "model_pkl_file = \"/Users/liamdurkan/Repositories/DataScience/SEM2/1 - Naive-Bayes/news_artical_model.pkl\" \n",
    "with open(model_pkl_file, 'rb') as file:  \n",
    "    model = pickle.load(file)\n",
    "\n",
    "def predict_category(input, model=model):\n",
    "    pred = model.predict([input])\n",
    "    return pred[0]\n",
    "\n",
    "@anvil.server.callable\n",
    "def prediction_input(text):\n",
    "    result = predict_category(text)\n",
    "    return result"
   ]
  },
  {
   "cell_type": "code",
   "execution_count": 3,
   "metadata": {},
   "outputs": [
    {
     "name": "stderr",
     "output_type": "stream",
     "text": [
      "/usr/local/lib/python3.11/site-packages/sklearn/base.py:376: InconsistentVersionWarning: Trying to unpickle estimator PCA from version 1.3.2 when using version 1.4.1.post1. This might lead to breaking code or invalid results. Use at your own risk. For more info please refer to:\n",
      "https://scikit-learn.org/stable/model_persistence.html#security-maintainability-limitations\n",
      "  warnings.warn(\n",
      "/usr/local/lib/python3.11/site-packages/sklearn/base.py:376: InconsistentVersionWarning: Trying to unpickle estimator SVC from version 1.3.2 when using version 1.4.1.post1. This might lead to breaking code or invalid results. Use at your own risk. For more info please refer to:\n",
      "https://scikit-learn.org/stable/model_persistence.html#security-maintainability-limitations\n",
      "  warnings.warn(\n",
      "/usr/local/lib/python3.11/site-packages/sklearn/base.py:376: InconsistentVersionWarning: Trying to unpickle estimator Pipeline from version 1.3.2 when using version 1.4.1.post1. This might lead to breaking code or invalid results. Use at your own risk. For more info please refer to:\n",
      "https://scikit-learn.org/stable/model_persistence.html#security-maintainability-limitations\n",
      "  warnings.warn(\n"
     ]
    }
   ],
   "source": [
    "from skimage import io, transform\n",
    "import anvil.server\n",
    "import pickle\n",
    "from PIL import Image\n",
    "import numpy as np\n",
    "\n",
    "model_pkl_file = \"/Users/liamdurkan/Repositories/DataScience/SEM2/2 - Support Vector Machines/rbf_SVM_model.pkl\"\n",
    "\n",
    "with open(model_pkl_file, 'rb') as file:\n",
    "    model = pickle.load(file)\n",
    "\n",
    "@anvil.server.callable\n",
    "def predict_linear_svm(file):\n",
    "    with anvil.media.TempFile(file) as filename:\n",
    "        img = Image.open(filename)\n",
    "\n",
    "    img = img.resize((100, 100), resample=Image.BICUBIC)\n",
    "    arr = np.array(img)\n",
    "\n",
    "    # Flatten the array if necessary\n",
    "    arr = arr.flatten()\n",
    "\n",
    "    # Reshape the array to match the format used during training\n",
    "    arr = arr.reshape(1, -1)\n",
    "\n",
    "    predicted_label = model.predict(arr)[0]\n",
    "    decision_values = model.decision_function(arr)\n",
    "    print(\"Decision Values:\", decision_values)\n",
    "    predicted_class_index = np.argmax(decision_values)\n",
    "    predicted_label = model.classes_[predicted_class_index]\n",
    "    print(predicted_label)\n",
    "\n",
    "\n",
    "\n",
    "    return predicted_label, decision_values\n"
   ]
  }
 ],
 "metadata": {
  "kernelspec": {
   "display_name": "Python 3",
   "language": "python",
   "name": "python3"
  },
  "language_info": {
   "codemirror_mode": {
    "name": "ipython",
    "version": 3
   },
   "file_extension": ".py",
   "mimetype": "text/x-python",
   "name": "python",
   "nbconvert_exporter": "python",
   "pygments_lexer": "ipython3",
   "version": "3.11.0"
  }
 },
 "nbformat": 4,
 "nbformat_minor": 2
}
