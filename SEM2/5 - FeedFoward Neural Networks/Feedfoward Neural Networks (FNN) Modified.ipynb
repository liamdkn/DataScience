{
 "cells": [
  {
   "cell_type": "markdown",
   "metadata": {},
   "source": [
    "### Change Log for Clothing Recognition (using FeedFoward Neural Networks )\n",
    "\n",
    "\n",
    "This notebook demenstorates a Feedfoward Neural network with 1 hidden layer. In this notebook there is two types of activiation fucntions used, sigmoid & hyperbolic.\n",
    "I will train &  test the network using both functions and compare the loss and accuracy in iterations between the two activation fucntions. \n",
    "The original notebook preformed classification on the [MNIST data set](https://www.kaggle.com/datasets/hojjatk/mnist-dataset) categorizing handwritten images into 10 distinct categories 0 - 9.\n",
    "\n",
    "My notebook is using the same techniques for the neural network but training the model on the [Fashion MNIST](https://www.kaggle.com/datasets/zalando-research/fashionmnist) categorizing the images into 10 catageories. \n",
    "\n",
    "\n",
    "#### [1. Understanding the Algorithm](#algorithm-understanding)\n",
    "- **Objective:** \n",
    " - Get an understanding of the feedfoward neural network, train the network using a images to to achieve a high level of accuracy in classifying images into their respective catageoires. \n",
    " - Train the network to achieve high accuracy in classifying images into their respective categories.\n",
    "\n",
    "\n",
    "##### [2. Data Understanding](#data-understanding)\n",
    "- **Dataset Description:**\n",
    "- The original notebook trains the neural network on MNIST data which as dataset consisiting of handwritted digits 0 - 9 in greyscale images. \n",
    "  - The original dataset has 60,000 images for training and 10,000 for testing. \n",
    "\n",
    "- **Data Changes:**\n",
    "  My notebook trains the model on the FashionMNIST dataset. \n",
    "  - This data set contains 60,000 training and 10,000 test images. \n",
    "  - Images are 28 x 28 greyscale \n",
    "  - Each training and test example is assigned to one of the following labels:\n",
    "      - 0 T-shirt\n",
    "      - 1 Trouser\n",
    "      - 2 Pullover\n",
    "      - 3 Dress\n",
    "      - 4 Coat\n",
    "      - 5 Sandal\n",
    "      - 6 Shirt\n",
    "      - 7 Sneaker\n",
    "      - 8 Bag\n",
    "      - 9 Ankle boot\n",
    "\n",
    "This dataset was created by the same insitutuon MNIST as an update to the MNIST hand written digits dataset using it as a benchmark to validate their algorithmns. \n",
    "\n",
    "##### [3. Data Preparation](#3-data-preparation)\n",
    "\n",
    "The original digits data set is so similar to our fashion one, we dont have to change how we process the data. \n",
    "  1. Dataset is divided into training & testing datasets via a flag in the import. \n",
    "  2. The image is transofrmed into 'PyTorch tensors' which are arrays optimized for GPU execution.\n",
    "      - In the original notebook this is done as the images are imported but I wanted to see what I was dealign with so am transforming them after we view them. \n",
    "  3. ADD IN NORMALISATION \n",
    "  4. PyTorches DataLoader is used to create iterable data batches for training. \n",
    "\n",
    "\n",
    "##### [4. Modeling](#modeling)\n",
    "- **Changes:**\n",
    " - The neural network architechture remains the same for both the digits & fashion dataset. \n",
    " - To explore this FFN further, I increased the learning rate of each epoch by 0.1 to find the optium learning rate for this data and network.\n",
    "**Implementation Details:**\n",
    "  1. Defined a Feedforward Neural Network model with one hidden layer and specified activation functions.\n",
    "  2. Utilized PyTorch's modules for defining the model architecture and loss function.\n",
    "\n",
    "##### [5. Evaluation](#evaluation)\n",
    "\n",
    "<div style=\"display: flex; justify-content: space-around; align-items: center;\">\n",
    "    <img src=\"images/Sigmoid Activation Function - Loss vs Learning Rate.png\" alt=\"Sigmoid Loss\" style=\"width: 45%;\">\n",
    "    <img src=\"images/Sigmoid Activation Function - Accuracy vs Learning Rate.png\" alt=\"Sigmoid Accuracy\" style=\"width: 45%;\">\n",
    "</div>\n",
    "\n",
    "- **Sigmoid Activation Function** Iteration 3000\n",
    "  - Learning rate 0.1: Loss: 0.54. Accuracy: 82.68%\n",
    "  - Learning rate 0.2: Loss: 0.43. Accuracy: 84.28%\n",
    "  - Learning rate 0.3: Loss: 0.49. Accuracy: 84.27%\n",
    "  - Learning rate 0.4: Loss: 0.51. Accuracy: 85.31%\n",
    "\n",
    "<div style=\"display: flex; justify-content: space-around; align-items: center;\">\n",
    "    <img src=\"images/Hyperbolic Activation Function - Loss vs Learning Rate.png\" alt=\"Hyperbolic Loss\" style=\"width: 45%;\">\n",
    "    <img src=\"images/Hyperbolic Activation Function - Accuracy vs Learning Rate.png\" alt=\"Hyperbolic Accuracy\" style=\"width: 45%;\">\n",
    "</div>\n",
    "\n",
    "\n",
    "- **Hyperbolic Activation Function** Iteration 3000\n",
    "  - Learning rate 0.1: Loss: 0.41. Accuracy: 84.76%\n",
    "  - Learning rate 0.2: Loss: 0.27. Accuracy: 85.85%\n",
    "  - Learning rate 0.3: Loss: 0.27. Accuracy: 86.32%\n",
    "  - Learning rate 0.5: Loss: 0.33. Accuracy: 84.83%\n",
    "\n"
   ]
  },
  {
   "cell_type": "code",
   "execution_count": 1,
   "metadata": {},
   "outputs": [],
   "source": [
    "#Imports \n",
    "import torch\n",
    "import torch.nn as nn\n",
    "import torchvision.datasets as dsets\n",
    "import torchvision.datasets as dsets\n",
    "import torchvision.transforms as transforms\n",
    "import torchvision.datasets as dsets\n",
    "import matplotlib.pyplot as plt\n"
   ]
  },
  {
   "cell_type": "markdown",
   "metadata": {},
   "source": [
    "#### Data Understanding <a id='data-understanding'></a>\n",
    "\n",
    "Here I import the data using the 'torchvision.datasets.FashionMNIST' module from the PyTorch library.\n",
    "- root: location to store the data\n",
    "- train: boolean that indicates weather it is the trainign set or not "
   ]
  },
  {
   "cell_type": "code",
   "execution_count": 2,
   "metadata": {},
   "outputs": [],
   "source": [
    "train_dataset = dsets.FashionMNIST(root='./data', \n",
    "                                   train=True, \n",
    "                                   download=True)\n",
    "\n",
    "test_dataset = dsets.FashionMNIST(root='./data', \n",
    "                                  train=False, \n",
    "                                  download=True)\n"
   ]
  },
  {
   "cell_type": "markdown",
   "metadata": {},
   "source": [
    "Print off some samples of our data so we can see what we are working with"
   ]
  },
  {
   "cell_type": "code",
   "execution_count": 3,
   "metadata": {},
   "outputs": [
    {
     "data": {
      "image/png": "[encoded data removed]",
      "text/plain": [
       "<Figure size 200x200 with 1 Axes>"
      ]
     },
     "metadata": {},
     "output_type": "display_data"
    },
    {
     "data": {
      "image/png": "[encoded data removed]",
      "text/plain": [
       "<Figure size 200x200 with 1 Axes>"
      ]
     },
     "metadata": {},
     "output_type": "display_data"
    },
    {
     "data": {
      "image/png": "[encoded data removed]",
      "text/plain": [
       "<Figure size 200x200 with 1 Axes>"
      ]
     },
     "metadata": {},
     "output_type": "display_data"
    },
    {
     "data": {
      "image/png": "[encoded data removed]",
      "text/plain": [
       "<Figure size 200x200 with 1 Axes>"
      ]
     },
     "metadata": {},
     "output_type": "display_data"
    },
    {
     "data": {
      "image/png": "[encoded data removed]",
      "text/plain": [
       "<Figure size 200x200 with 1 Axes>"
      ]
     },
     "metadata": {},
     "output_type": "display_data"
    }
   ],
   "source": [
    "for i in range(5):\n",
    "    image, label = train_dataset[i]\n",
    "    plt.figure(figsize=(2, 2))\n",
    "    plt.imshow(image, cmap='gray')\n",
    "    plt.show()"
   ]
  },
  {
   "cell_type": "markdown",
   "metadata": {},
   "source": [
    "Step 1.5: Convert images to 'tensors' represents it as multidementional arrays which is how pytorch and tensor flow process it. "
   ]
  },
  {
   "cell_type": "code",
   "execution_count": 4,
   "metadata": {},
   "outputs": [],
   "source": [
    "# Transformation to tensors (og notebook did this on input but i wanted to show the images )\n",
    "transform = transforms.ToTensor()\n",
    "train_dataset.transform = transform\n",
    "test_dataset.transform = transform"
   ]
  },
  {
   "cell_type": "markdown",
   "metadata": {},
   "source": [
    "Step 2: Make Dataset Iterable:\n",
    "\n",
    "Here the dataset is split up into smaller chunks, this speeds up processing time over the epochs rather than iterating over the entire dataset. "
   ]
  },
  {
   "cell_type": "code",
   "execution_count": 5,
   "metadata": {},
   "outputs": [],
   "source": [
    "#Breaks data set up into batches of 100\n",
    "batch_size = 100\n",
    "n_iters = 3000\n",
    "num_epochs = n_iters / (len(train_dataset) / batch_size)\n",
    "num_epochs = int(num_epochs)\n",
    "\n",
    "train_loader = torch.utils.data.DataLoader(dataset=train_dataset, \n",
    "                                        batch_size=batch_size, \n",
    "                                        shuffle=True)\n",
    "\n",
    "test_loader = torch.utils.data.DataLoader(dataset=test_dataset, \n",
    "                                        batch_size=batch_size, \n",
    "                                        shuffle=False)"
   ]
  },
  {
   "cell_type": "markdown",
   "metadata": {},
   "source": [
    "Step 3: Create Model Class¶"
   ]
  },
  {
   "cell_type": "code",
   "execution_count": 6,
   "metadata": {},
   "outputs": [],
   "source": [
    "class FeedforwardNeuralNetModel(nn.Module):\n",
    "    def __init__(self, input_dim, hidden_dim, output_dim):\n",
    "        super(FeedforwardNeuralNetModel, self).__init__()\n",
    "        # Linear function\n",
    "        self.fc1 = nn.Linear(input_dim, hidden_dim) #defines first fully connected layer \n",
    "\n",
    "        # Non-linearity\n",
    "        self.sigmoid = nn.Sigmoid() #sigmoid activation function \n",
    "\n",
    "        # Linear function (readout)\n",
    "        self.fc2 = nn.Linear(hidden_dim, output_dim)  #Second fully conncted layer \n",
    "\n",
    "    def forward(self, x):\n",
    "        # Linear function  # LINEAR\n",
    "        out = self.fc1(x) \n",
    "\n",
    "        # Non-linearity  # NON-LINEAR\n",
    "        out = self.sigmoid(out)\n",
    "\n",
    "        # Linear function (readout)  # LINEAR\n",
    "        out = self.fc2(out)\n",
    "        return out"
   ]
  },
  {
   "cell_type": "code",
   "execution_count": 7,
   "metadata": {},
   "outputs": [],
   "source": [
    "input_dim = 28*28\n",
    "hidden_dim = 100\n",
    "output_dim = 10\n",
    "\n",
    "model = FeedforwardNeuralNetModel(input_dim, hidden_dim, output_dim)"
   ]
  },
  {
   "cell_type": "markdown",
   "metadata": {},
   "source": [
    "Step 5: Instantiate Loss Class¶"
   ]
  },
  {
   "cell_type": "code",
   "execution_count": 8,
   "metadata": {},
   "outputs": [],
   "source": [
    "criterion = nn.CrossEntropyLoss()"
   ]
  },
  {
   "cell_type": "markdown",
   "metadata": {},
   "source": [
    "Step 6: Instantiate Optimizer Class¶"
   ]
  },
  {
   "cell_type": "code",
   "execution_count": 9,
   "metadata": {},
   "outputs": [],
   "source": [
    "learning_rate = 0.2\n",
    "\n",
    "optimizer = torch.optim.SGD(model.parameters(), lr=learning_rate)"
   ]
  },
  {
   "cell_type": "markdown",
   "metadata": {},
   "source": [
    "Parameters In-Depth"
   ]
  },
  {
   "cell_type": "code",
   "execution_count": 10,
   "metadata": {},
   "outputs": [
    {
     "name": "stdout",
     "output_type": "stream",
     "text": [
      "<generator object Module.parameters at 0x125bb11c0>\n"
     ]
    }
   ],
   "source": [
    "print(model.parameters())"
   ]
  },
  {
   "cell_type": "code",
   "execution_count": 11,
   "metadata": {},
   "outputs": [
    {
     "name": "stdout",
     "output_type": "stream",
     "text": [
      "4\n"
     ]
    }
   ],
   "source": [
    "print(len(list(model.parameters())))"
   ]
  },
  {
   "cell_type": "code",
   "execution_count": 12,
   "metadata": {},
   "outputs": [
    {
     "name": "stdout",
     "output_type": "stream",
     "text": [
      "torch.Size([100, 784])\n"
     ]
    }
   ],
   "source": [
    "# FC 1 Parameters \n",
    "print(list(model.parameters())[0].size())"
   ]
  },
  {
   "cell_type": "code",
   "execution_count": 13,
   "metadata": {},
   "outputs": [
    {
     "name": "stdout",
     "output_type": "stream",
     "text": [
      "torch.Size([100])\n"
     ]
    }
   ],
   "source": [
    "# FC 1 Bias Parameters\n",
    "print(list(model.parameters())[1].size())"
   ]
  },
  {
   "cell_type": "code",
   "execution_count": 14,
   "metadata": {},
   "outputs": [
    {
     "name": "stdout",
     "output_type": "stream",
     "text": [
      "torch.Size([10, 100])\n"
     ]
    }
   ],
   "source": [
    "# FC 2 Parameters\n",
    "print(list(model.parameters())[2].size())"
   ]
  },
  {
   "cell_type": "code",
   "execution_count": 15,
   "metadata": {},
   "outputs": [
    {
     "name": "stdout",
     "output_type": "stream",
     "text": [
      "torch.Size([10])\n"
     ]
    }
   ],
   "source": [
    "# FC 2 Bias Parameters\n",
    "print(list(model.parameters())[3].size())"
   ]
  },
  {
   "cell_type": "code",
   "execution_count": 16,
   "metadata": {},
   "outputs": [],
   "source": [
    "#4\n",
    "#torch.Size([100, 784])\n",
    "#torch.Size([100])\n",
    "#torch.Size([10, 100])\n",
    "#torch.Size([10])"
   ]
  },
  {
   "cell_type": "markdown",
   "metadata": {},
   "source": [
    "Step 7: Train Model"
   ]
  },
  {
   "cell_type": "code",
   "execution_count": 17,
   "metadata": {},
   "outputs": [
    {
     "name": "stdout",
     "output_type": "stream",
     "text": [
      "Iteration: 500. Loss: 0.5364990830421448. Accuracy: 77.0\n",
      "Iteration: 1000. Loss: 0.591884434223175. Accuracy: 80.80000305175781\n",
      "Iteration: 1500. Loss: 0.43166911602020264. Accuracy: 82.30999755859375\n",
      "Iteration: 2000. Loss: 0.36908993124961853. Accuracy: 83.12999725341797\n",
      "Iteration: 2500. Loss: 0.5614050030708313. Accuracy: 81.75\n",
      "Iteration: 3000. Loss: 0.4118054509162903. Accuracy: 83.30000305175781\n"
     ]
    }
   ],
   "source": [
    "iter = 0\n",
    "for epoch in range(num_epochs):\n",
    "    for i, (images, labels) in enumerate(train_loader):\n",
    "        # Load images with gradient accumulation capabilities\n",
    "        images = images.view(-1, 28*28).requires_grad_()\n",
    "\n",
    "        # Clear gradients w.r.t. parameters\n",
    "        optimizer.zero_grad()\n",
    "\n",
    "        # Forward pass to get output/logits\n",
    "        outputs = model(images)\n",
    "\n",
    "        # Calculate Loss: softmax --> cross entropy loss\n",
    "        loss = criterion(outputs, labels)\n",
    "\n",
    "        # Getting gradients w.r.t. parameters\n",
    "        loss.backward()\n",
    "\n",
    "        # Updating parameters\n",
    "        optimizer.step()\n",
    "\n",
    "        iter += 1\n",
    "\n",
    "        if iter % 500 == 0:\n",
    "            # Calculate Accuracy         \n",
    "            correct = 0\n",
    "            total = 0\n",
    "            # Iterate through test dataset\n",
    "            for images, labels in test_loader:\n",
    "                # Load images with gradient accumulation capabilities\n",
    "                images = images.view(-1, 28*28).requires_grad_()\n",
    "\n",
    "                # Forward pass only to get logits/output\n",
    "                outputs = model(images)\n",
    "\n",
    "                # Get predictions from the maximum value\n",
    "                _, predicted = torch.max(outputs.data, 1)\n",
    "\n",
    "                # Total number of labels\n",
    "                total += labels.size(0)\n",
    "\n",
    "                # Total correct predictions\n",
    "                correct += (predicted == labels).sum()\n",
    "\n",
    "            accuracy = 100 * correct / total\n",
    "\n",
    "            # Print Loss\n",
    "            print('Iteration: {}. Loss: {}. Accuracy: {}'.format(iter, loss.item(), accuracy))"
   ]
  },
  {
   "cell_type": "markdown",
   "metadata": {},
   "source": [
    "Steps¶\n",
    "\n",
    "    Step 1: Load Dataset\n",
    "    Step 2: Make Dataset Iterable\n",
    "    Step 3: Create Model Classfdsd\n",
    "    Step 4: Instantiate Model Class\n",
    "    Step 5: Instantiate Loss Class\n",
    "    Step 6: Instantiate Optimizer Class\n",
    "    Step 7: Train Model\n"
   ]
  },
  {
   "cell_type": "markdown",
   "metadata": {},
   "source": [
    "STEP 1: LOADING DATASET"
   ]
  },
  {
   "cell_type": "code",
   "execution_count": 18,
   "metadata": {},
   "outputs": [],
   "source": [
    "train_dataset = dsets.FashionMNIST(root='./data', \n",
    "                            train=True, \n",
    "                            transform=transforms.ToTensor(),\n",
    "                            download=True)\n",
    "\n",
    "test_dataset = dsets.FashionMNIST(root='./data', \n",
    "                           train=False, \n",
    "                           transform=transforms.ToTensor())"
   ]
  },
  {
   "cell_type": "markdown",
   "metadata": {},
   "source": [
    "STEP 2: MAKING DATASET ITERABLE"
   ]
  },
  {
   "cell_type": "code",
   "execution_count": 19,
   "metadata": {},
   "outputs": [],
   "source": [
    "\n",
    "\n",
    "batch_size = 100\n",
    "n_iters = 3000\n",
    "num_epochs = n_iters / (len(train_dataset) / batch_size)\n",
    "num_epochs = int(num_epochs)\n",
    "\n",
    "train_loader = torch.utils.data.DataLoader(dataset=train_dataset, \n",
    "                                           batch_size=batch_size, \n",
    "                                           shuffle=True)\n",
    "\n",
    "test_loader = torch.utils.data.DataLoader(dataset=test_dataset, \n",
    "                                          batch_size=batch_size, \n",
    "                                          shuffle=False)"
   ]
  },
  {
   "cell_type": "markdown",
   "metadata": {},
   "source": [
    "STEP 3: CREATE MODEL CLASS"
   ]
  },
  {
   "cell_type": "code",
   "execution_count": 20,
   "metadata": {},
   "outputs": [],
   "source": [
    "\n",
    "class FeedforwardNeuralNetModel(nn.Module):\n",
    "    def __init__(self, input_dim, hidden_dim, output_dim):\n",
    "        super(FeedforwardNeuralNetModel, self).__init__()\n",
    "        # Linear function\n",
    "        self.fc1 = nn.Linear(input_dim, hidden_dim) \n",
    "        # Non-linearity\n",
    "        self.tanh = nn.Tanh()\n",
    "        # Linear function (readout)\n",
    "        self.fc2 = nn.Linear(hidden_dim, output_dim)  \n",
    "\n",
    "    def forward(self, x):\n",
    "        # Linear function\n",
    "        out = self.fc1(x)\n",
    "        # Non-linearity\n",
    "        out = self.tanh(out)\n",
    "        # Linear function (readout)\n",
    "        out = self.fc2(out)\n",
    "        return out"
   ]
  },
  {
   "cell_type": "markdown",
   "metadata": {},
   "source": [
    "\n",
    "STEP 4: INSTANTIATE MODEL CLASS\n"
   ]
  },
  {
   "cell_type": "code",
   "execution_count": 21,
   "metadata": {},
   "outputs": [],
   "source": [
    "\n",
    "input_dim = 28*28\n",
    "hidden_dim = 100\n",
    "output_dim = 10\n",
    "\n",
    "model = FeedforwardNeuralNetModel(input_dim, hidden_dim, output_dim)"
   ]
  },
  {
   "cell_type": "markdown",
   "metadata": {},
   "source": [
    "STEP 5: INSTANTIATE LOSS CLASS"
   ]
  },
  {
   "cell_type": "code",
   "execution_count": 22,
   "metadata": {},
   "outputs": [],
   "source": [
    "\n",
    "criterion = nn.CrossEntropyLoss()"
   ]
  },
  {
   "cell_type": "markdown",
   "metadata": {},
   "source": [
    "STEP 6: INSTANTIATE OPTIMIZER CLASS"
   ]
  },
  {
   "cell_type": "code",
   "execution_count": 23,
   "metadata": {},
   "outputs": [],
   "source": [
    "learning_rate = 0.3\n",
    "\n",
    "optimizer = torch.optim.SGD(model.parameters(), lr=learning_rate)"
   ]
  },
  {
   "cell_type": "markdown",
   "metadata": {},
   "source": [
    "STEP 7: TRAIN THE MODEL"
   ]
  },
  {
   "cell_type": "code",
   "execution_count": 24,
   "metadata": {},
   "outputs": [
    {
     "name": "stdout",
     "output_type": "stream",
     "text": [
      "Iteration: 500. Loss: 0.5066186785697937. Accuracy: 80.05999755859375\n",
      "Iteration: 1000. Loss: 0.6159319877624512. Accuracy: 81.93000030517578\n",
      "Iteration: 1500. Loss: 0.28437843918800354. Accuracy: 85.5\n",
      "Iteration: 2000. Loss: 0.3409114181995392. Accuracy: 85.66999816894531\n",
      "Iteration: 2500. Loss: 0.40837299823760986. Accuracy: 84.41000366210938\n",
      "Iteration: 3000. Loss: 0.40442734956741333. Accuracy: 84.20999908447266\n"
     ]
    }
   ],
   "source": [
    "\n",
    "iter = 0\n",
    "for epoch in range(num_epochs):\n",
    "    for i, (images, labels) in enumerate(train_loader):\n",
    "        # Load images with gradient accumulation capabilities\n",
    "        images = images.view(-1, 28*28).requires_grad_()\n",
    "\n",
    "        # Clear gradients w.r.t. parameters\n",
    "        optimizer.zero_grad()\n",
    "\n",
    "        # Forward pass to get output/logits\n",
    "        outputs = model(images)\n",
    "\n",
    "        # Calculate Loss: softmax --> cross entropy loss\n",
    "        loss = criterion(outputs, labels)\n",
    "\n",
    "        # Getting gradients w.r.t. parameters\n",
    "        loss.backward()\n",
    "\n",
    "        # Updating parameters\n",
    "        optimizer.step()\n",
    "\n",
    "        iter += 1\n",
    "\n",
    "        if iter % 500 == 0:\n",
    "            # Calculate Accuracy         \n",
    "            correct = 0\n",
    "            total = 0\n",
    "            # Iterate through test dataset\n",
    "            for images, labels in test_loader:\n",
    "                # Load images with gradient accumulation capabilities\n",
    "                images = images.view(-1, 28*28).requires_grad_()\n",
    "\n",
    "                # Forward pass only to get logits/output\n",
    "                outputs = model(images)\n",
    "\n",
    "                # Get predictions from the maximum value\n",
    "                _, predicted = torch.max(outputs.data, 1)\n",
    "\n",
    "                # Total number of labels\n",
    "                total += labels.size(0)\n",
    "\n",
    "                # Total correct predictions\n",
    "                correct += (predicted == labels).sum()\n",
    "\n",
    "            accuracy = 100 * correct / total\n",
    "\n",
    "            # Print Loss\n",
    "            print('Iteration: {}. Loss: {}. Accuracy: {}'.format(iter, loss.item(), accuracy))"
   ]
  },
  {
   "cell_type": "code",
   "execution_count": 25,
   "metadata": {},
   "outputs": [
    {
     "name": "stdout",
     "output_type": "stream",
     "text": [
      "Sample: 1\n",
      "Predicted Label: 9\n",
      "True Label: 9\n"
     ]
    },
    {
     "data": {
      "image/png": "[encoded data removed]",
      "text/plain": [
       "<Figure size 200x200 with 1 Axes>"
      ]
     },
     "metadata": {},
     "output_type": "display_data"
    },
    {
     "name": "stdout",
     "output_type": "stream",
     "text": [
      "\n",
      "Sample: 2\n",
      "Predicted Label: 2\n",
      "True Label: 2\n"
     ]
    },
    {
     "data": {
      "image/png": "[encoded data removed]",
      "text/plain": [
       "<Figure size 200x200 with 1 Axes>"
      ]
     },
     "metadata": {},
     "output_type": "display_data"
    },
    {
     "name": "stdout",
     "output_type": "stream",
     "text": [
      "\n",
      "Sample: 3\n",
      "Predicted Label: 1\n",
      "True Label: 1\n"
     ]
    },
    {
     "data": {
      "image/png": "[encoded data removed]",
      "text/plain": [
       "<Figure size 200x200 with 1 Axes>"
      ]
     },
     "metadata": {},
     "output_type": "display_data"
    },
    {
     "name": "stdout",
     "output_type": "stream",
     "text": [
      "\n",
      "Sample: 4\n",
      "Predicted Label: 1\n",
      "True Label: 1\n"
     ]
    },
    {
     "data": {
      "image/png": "[encoded data removed]",
      "text/plain": [
       "<Figure size 200x200 with 1 Axes>"
      ]
     },
     "metadata": {},
     "output_type": "display_data"
    },
    {
     "name": "stdout",
     "output_type": "stream",
     "text": [
      "\n",
      "Sample: 5\n",
      "Predicted Label: 6\n",
      "True Label: 6\n"
     ]
    },
    {
     "data": {
      "image/png": "[encoded data removed]",
      "text/plain": [
       "<Figure size 200x200 with 1 Axes>"
      ]
     },
     "metadata": {},
     "output_type": "display_data"
    },
    {
     "name": "stdout",
     "output_type": "stream",
     "text": [
      "\n",
      "Sample: 6\n",
      "Predicted Label: 1\n",
      "True Label: 1\n"
     ]
    },
    {
     "data": {
      "image/png": "[encoded data removed]",
      "text/plain": [
       "<Figure size 200x200 with 1 Axes>"
      ]
     },
     "metadata": {},
     "output_type": "display_data"
    },
    {
     "name": "stdout",
     "output_type": "stream",
     "text": [
      "\n",
      "Sample: 7\n",
      "Predicted Label: 4\n",
      "True Label: 4\n"
     ]
    },
    {
     "data": {
      "image/png": "[encoded data removed]",
      "text/plain": [
       "<Figure size 200x200 with 1 Axes>"
      ]
     },
     "metadata": {},
     "output_type": "display_data"
    },
    {
     "name": "stdout",
     "output_type": "stream",
     "text": [
      "\n",
      "Sample: 8\n",
      "Predicted Label: 6\n",
      "True Label: 6\n"
     ]
    },
    {
     "data": {
      "image/png": "[encoded data removed]",
      "text/plain": [
       "<Figure size 200x200 with 1 Axes>"
      ]
     },
     "metadata": {},
     "output_type": "display_data"
    },
    {
     "name": "stdout",
     "output_type": "stream",
     "text": [
      "\n",
      "Sample: 9\n",
      "Predicted Label: 5\n",
      "True Label: 5\n"
     ]
    },
    {
     "data": {
      "image/png": "[encoded data removed]",
      "text/plain": [
       "<Figure size 200x200 with 1 Axes>"
      ]
     },
     "metadata": {},
     "output_type": "display_data"
    },
    {
     "name": "stdout",
     "output_type": "stream",
     "text": [
      "\n",
      "Sample: 10\n",
      "Predicted Label: 7\n",
      "True Label: 7\n"
     ]
    },
    {
     "data": {
      "image/png": "[encoded data removed]",
      "text/plain": [
       "<Figure size 200x200 with 1 Axes>"
      ]
     },
     "metadata": {},
     "output_type": "display_data"
    },
    {
     "name": "stdout",
     "output_type": "stream",
     "text": [
      "\n"
     ]
    }
   ],
   "source": [
    "import matplotlib.pyplot as plt\n",
    "\n",
    "# Set the number of predictions to print\n",
    "num_predictions = 10\n",
    "\n",
    "# Loop over the test dataset and print predictions for each image\n",
    "for i, (images, labels) in enumerate(test_loader):\n",
    "    # Forward pass to get output/logits\n",
    "    outputs = model(images.view(-1, 28*28).requires_grad_())\n",
    "    \n",
    "    # Get predicted labels\n",
    "    _, predicted = torch.max(outputs.data, 1)\n",
    "    \n",
    "    # Print predictions for each image in the batch\n",
    "    for j in range(len(labels)):\n",
    "        print(\"Sample:\", i * batch_size + j + 1)\n",
    "        print(\"Predicted Label:\", predicted[j].item())\n",
    "        print(\"True Label:\", labels[j].item())\n",
    "        \n",
    "        # Plot the image\n",
    "        plt.figure(figsize=(2, 2))  # Set the figure size (width, height) in inches\n",
    "        plt.imshow(images[j].view(28, 28), cmap='gray')\n",
    "        plt.axis('off')\n",
    "        plt.show()\n",
    "        \n",
    "        print()\n",
    "        \n",
    "        # Break the loop if the desired number of predictions is reached\n",
    "        if (i * batch_size + j + 1) == num_predictions:\n",
    "            break\n",
    "    \n",
    "    # Break the loop if the desired number of predictions is reached\n",
    "    if (i + 1) * batch_size >= num_predictions:\n",
    "        break\n"
   ]
  },
  {
   "cell_type": "markdown",
   "metadata": {},
   "source": [
    "### 5. Evaluation <a id='evaluation'></a>\n",
    "\n",
    "Below are the outputs for the Sigmoid and Hyperbolic Activiation functions.\n",
    "I have increased the learning rate .1 for each iteration to compare the Loss and Accuracy Learning curve.\n",
    "We can determine that \n",
    " - Sigmoid: Learning rate 0.2 has the lowest Loss and highest Accuracy resutls\n",
    " - Hyperbolic: Learning rate .3 has the lowest Loss and highest Accuracy resutls\n",
    "\n",
    "\n",
    "Based on the comparison, we see that the Hyperbolic Activation Function with a learning rate of 0.3 performs better in terms of accuracy compared to the Sigmoid Activation Function with a learning rate of 0.2.\n",
    "\n",
    "\n",
    "### Sigmoid Activation Function\n",
    "\n",
    "#### Learning rate 0.1\n",
    "- Iteration 500: Loss = 0.7098, Accuracy = 72.74%\n",
    "- Iteration 1000: Loss = 0.6499, Accuracy = 77.41%\n",
    "- Iteration 1500: Loss = 0.5517, Accuracy = 79.85%\n",
    "- Iteration 2000: Loss = 0.4934, Accuracy = 81.18%\n",
    "- Iteration 2500: Loss = 0.5053, Accuracy = 81.75%\n",
    "- Iteration 3000: Loss = 0.5375, Accuracy = 82.68%\n",
    "\n",
    "#### Learning rate 0.2\n",
    "- Iteration 500: Loss = 0.5842, Accuracy = 77.17%\n",
    "- Iteration 1000: Loss = 0.5057, Accuracy = 80.68%\n",
    "- Iteration 1500: Loss = 0.6082, Accuracy = 82.20%\n",
    "- Iteration 2000: Loss = 0.2899, Accuracy = 82.98%\n",
    "- Iteration 2500: Loss = 0.4461, Accuracy = 83.07%\n",
    "- Iteration 3000: Loss = 0.4284, Accuracy = 84.28%\n",
    "\n",
    "#### Learning rate 0.3\n",
    "- Iteration 500: Loss = 0.5282, Accuracy = 79.73%\n",
    "- Iteration 1000: Loss = 0.4649, Accuracy = 82.69%\n",
    "- Iteration 1500: Loss = 0.4766, Accuracy = 83.11%\n",
    "- Iteration 2000: Loss = 0.4515, Accuracy = 82.89%\n",
    "- Iteration 2500: Loss = 0.5382, Accuracy = 83.08%\n",
    "- Iteration 3000: Loss = 0.4857, Accuracy = 84.27%\n",
    "\n",
    "#### Learning rate 0.4\n",
    "- Iteration 500: Loss = 0.6643, Accuracy = 79.95%\n",
    "- Iteration 1000: Loss = 0.4384, Accuracy = 81.50%\n",
    "- Iteration 1500: Loss = 0.4917, Accuracy = 83.54%\n",
    "- Iteration 2000: Loss = 0.3705, Accuracy = 84.35%\n",
    "- Iteration 2500: Loss = 0.5465, Accuracy = 84.87%\n",
    "- Iteration 3000: Loss = 0.5116, Accuracy = 85.31%\n",
    "\n",
    "### Hyperbolic Activation Function\n",
    "\n",
    "#### Learning rate 0.1\n",
    "- Iteration 500: Loss = 0.6437, Accuracy = 81.31%\n",
    "- Iteration 1000: Loss = 0.3577, Accuracy = 83.02%\n",
    "- Iteration 1500: Loss = 0.4512, Accuracy = 83.83%\n",
    "- Iteration 2000: Loss = 0.3460, Accuracy = 82.35%\n",
    "- Iteration 2500: Loss = 0.4050, Accuracy = 84.76%\n",
    "- Iteration 3000: Loss = 0.4071, Accuracy = 84.76%\n",
    "\n",
    "#### Learning rate 0.2\n",
    "- Iteration 500: Loss = 0.5485, Accuracy = 82.37%\n",
    "- Iteration 1000: Loss = 0.2826, Accuracy = 84.12%\n",
    "- Iteration 1500: Loss = 0.4048, Accuracy = 84.02%\n",
    "- Iteration 2000: Loss = 0.2884, Accuracy = 85.72%\n",
    "- Iteration 2500: Loss = 0.3637, Accuracy = 85.68%\n",
    "- Iteration 3000: Loss = 0.2655, Accuracy = 85.85%\n",
    "\n",
    "#### Learning rate 0.3\n",
    "- Iteration 500: Loss = 0.3783, Accuracy = 81.96%\n",
    "- Iteration 1000: Loss = 0.4422, Accuracy = 82.66%\n",
    "- Iteration 1500: Loss = 0.2643, Accuracy = 85.18%\n",
    "- Iteration 2000: Loss = 0.3354, Accuracy = 85.87%\n",
    "- Iteration 2500: Loss = 0.2668, Accuracy = 85.96%\n",
    "- Iteration 3000: Loss = 0.2656, Accuracy = 86.32%\n",
    "\n",
    "#### Learning rate 0.4\n",
    "- Iteration 500: Loss = 0.5219, Accuracy = 81.90%\n",
    "- Iteration 1000: Loss = 0.3091, Accuracy = 84.14%\n",
    "- Iteration 1500: Loss = 0.4674, Accuracy = 83.05%\n",
    "- Iteration 2000: Loss = 0.2704, Accuracy = 85.36%\n",
    "- Iteration 2500: Loss = 0.2788, Accuracy = 86.59%\n",
    "- Iteration 3000: Loss = 0.3344, Accuracy = 84.83%"
   ]
  },
  {
   "cell_type": "code",
   "execution_count": 26,
   "metadata": {},
   "outputs": [
    {
     "ename": "NameError",
     "evalue": "name 'sigmoid_loss' is not defined",
     "output_type": "error",
     "traceback": [
      "\u001b[0;31m---------------------------------------------------------------------------\u001b[0m",
      "\u001b[0;31mNameError\u001b[0m                                 Traceback (most recent call last)",
      "\u001b[1;32m/Users/liamdurkan/Repositories/DataScience/SEM2/5 - FeedFoward Neural Networks/Feedfoward Neural Networks (FNN) Modified.ipynb Cell 45\u001b[0m line \u001b[0;36m7\n\u001b[1;32m      <a href='vscode-notebook-cell:/Users/liamdurkan/Repositories/DataScience/SEM2/5%20-%20FeedFoward%20Neural%20Networks/Feedfoward%20Neural%20Networks%20%28FNN%29%20Modified.ipynb#X62sZmlsZQ%3D%3D?line=4'>5</a>\u001b[0m \u001b[39m# Plot sigmoid loss\u001b[39;00m\n\u001b[1;32m      <a href='vscode-notebook-cell:/Users/liamdurkan/Repositories/DataScience/SEM2/5%20-%20FeedFoward%20Neural%20Networks/Feedfoward%20Neural%20Networks%20%28FNN%29%20Modified.ipynb#X62sZmlsZQ%3D%3D?line=5'>6</a>\u001b[0m plt\u001b[39m.\u001b[39mfigure(figsize\u001b[39m=\u001b[39m(\u001b[39m10\u001b[39m, \u001b[39m6\u001b[39m))\n\u001b[0;32m----> <a href='vscode-notebook-cell:/Users/liamdurkan/Repositories/DataScience/SEM2/5%20-%20FeedFoward%20Neural%20Networks/Feedfoward%20Neural%20Networks%20%28FNN%29%20Modified.ipynb#X62sZmlsZQ%3D%3D?line=6'>7</a>\u001b[0m \u001b[39mfor\u001b[39;00m i, (lr, loss) \u001b[39min\u001b[39;00m \u001b[39menumerate\u001b[39m(\u001b[39mzip\u001b[39m(sigmoid_learning_rates, sigmoid_loss)):\n\u001b[1;32m      <a href='vscode-notebook-cell:/Users/liamdurkan/Repositories/DataScience/SEM2/5%20-%20FeedFoward%20Neural%20Networks/Feedfoward%20Neural%20Networks%20%28FNN%29%20Modified.ipynb#X62sZmlsZQ%3D%3D?line=7'>8</a>\u001b[0m     plt\u001b[39m.\u001b[39mplot(loss, label\u001b[39m=\u001b[39m\u001b[39mf\u001b[39m\u001b[39m\"\u001b[39m\u001b[39mLR=\u001b[39m\u001b[39m{\u001b[39;00mlr\u001b[39m}\u001b[39;00m\u001b[39m\"\u001b[39m, marker\u001b[39m=\u001b[39m\u001b[39m'\u001b[39m\u001b[39mo\u001b[39m\u001b[39m'\u001b[39m)\n\u001b[1;32m      <a href='vscode-notebook-cell:/Users/liamdurkan/Repositories/DataScience/SEM2/5%20-%20FeedFoward%20Neural%20Networks/Feedfoward%20Neural%20Networks%20%28FNN%29%20Modified.ipynb#X62sZmlsZQ%3D%3D?line=8'>9</a>\u001b[0m plt\u001b[39m.\u001b[39mtitle(\u001b[39m'\u001b[39m\u001b[39mSigmoid Activation Function - Loss vs Learning Rate\u001b[39m\u001b[39m'\u001b[39m)\n",
      "\u001b[0;31mNameError\u001b[0m: name 'sigmoid_loss' is not defined"
     ]
    },
    {
     "data": {
      "text/plain": [
       "<Figure size 1000x600 with 0 Axes>"
      ]
     },
     "metadata": {},
     "output_type": "display_data"
    }
   ],
   "source": [
    "\n",
    "# Define the data for sigmoid activation function\n",
    "sigmoid_learning_rates = [0.1, 0.2, 0.3, 0.4]\n",
    "\n",
    "\n",
    "# Plot sigmoid loss\n",
    "plt.figure(figsize=(10, 6))\n",
    "for i, (lr, loss) in enumerate(zip(sigmoid_learning_rates, sigmoid_loss)):\n",
    "    plt.plot(loss, label=f\"LR={lr}\", marker='o')\n",
    "plt.title('Sigmoid Activation Function - Loss vs Learning Rate')\n",
    "plt.xlabel('Iterations')\n",
    "plt.ylabel('Loss')\n",
    "plt.legend(title='Learning Rate')\n",
    "plt.grid(True)\n",
    "plt.show()\n",
    "\n",
    "# Plot sigmoid accuracy\n",
    "plt.figure(figsize=(10, 6))\n",
    "for i, (lr, acc) in enumerate(zip(sigmoid_learning_rates, sigmoid_accuracy)):\n",
    "    plt.plot(acc, label=f\"LR={lr}\", marker='o')\n",
    "plt.title('Sigmoid Activation Function - Accuracy vs Learning Rate')\n",
    "plt.xlabel('Iterations')\n",
    "plt.ylabel('Accuracy (%)')\n",
    "plt.legend(title='Learning Rate')\n",
    "plt.grid(True)\n",
    "plt.show()\n",
    "\n",
    "# Plot hyperbolic loss\n",
    "plt.figure(figsize=(10, 6))\n",
    "for i, (lr, loss) in enumerate(zip(hyperbolic_learning_rates, hyperbolic_loss)):\n",
    "    plt.plot(loss, label=f\"LR={lr}\", marker='o')\n",
    "plt.title('Hyperbolic Activation Function - Loss vs Learning Rate')\n",
    "plt.xlabel('Iterations')\n",
    "plt.ylabel('Loss')\n",
    "plt.legend(title='Learning Rate')\n",
    "plt.grid(True)\n",
    "plt.show()\n",
    "\n",
    "# Plot hyperbolic accuracy\n",
    "plt.figure(figsize=(10, 6))\n",
    "for i, (lr, acc) in enumerate(zip(hyperbolic_learning_rates, hyperbolic_accuracy)):\n",
    "    plt.plot(acc, label=f\"LR={lr}\", marker='o')\n",
    "plt.title('Hyperbolic Activation Function - Accuracy vs Learning Rate')\n",
    "plt.xlabel('Iterations')\n",
    "plt.ylabel('Accuracy (%)')\n",
    "plt.legend(title='Learning Rate')\n",
    "plt.grid(True)\n",
    "plt.show()\n"
   ]
  }
 ],
 "metadata": {
  "kernelspec": {
   "display_name": "Python 3",
   "language": "python",
   "name": "python3"
  },
  "language_info": {
   "codemirror_mode": {
    "name": "ipython",
    "version": 3
   },
   "file_extension": ".py",
   "mimetype": "text/x-python",
   "name": "python",
   "nbconvert_exporter": "python",
   "pygments_lexer": "ipython3",
   "version": "3.11.8"
  }
 },
 "nbformat": 4,
 "nbformat_minor": 2
}
